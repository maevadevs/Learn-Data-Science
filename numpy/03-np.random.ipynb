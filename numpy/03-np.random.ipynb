{
 "cells": [
  {
   "cell_type": "markdown",
   "metadata": {
    "toc": true
   },
   "source": [
    "<h1>Table of Contents<span class=\"tocSkip\"></span></h1>\n",
    "<div class=\"toc\"><ul class=\"toc-item\"><li><span><a href=\"#Simulate-Random-Distribution\" data-toc-modified-id=\"Simulate-Random-Distribution-1\"><span class=\"toc-item-num\">1&nbsp;&nbsp;</span>Simulate Random Distribution</a></span></li></ul></div>"
   ]
  },
  {
   "cell_type": "markdown",
   "metadata": {},
   "source": [
    "## Simulate Random Distribution"
   ]
  },
  {
   "cell_type": "markdown",
   "metadata": {},
   "source": [
    "We can use `np.random.normal(m, sd, n)` to simulate a random distribution\n",
    "- `m`: The Mean\n",
    "- `sd`: The Standard Deviation\n",
    "- `n`: The number of samples"
   ]
  },
  {
   "cell_type": "code",
   "execution_count": 1,
   "metadata": {},
   "outputs": [],
   "source": [
    "import numpy as np"
   ]
  },
  {
   "cell_type": "code",
   "execution_count": 2,
   "metadata": {},
   "outputs": [
    {
     "data": {
      "text/plain": [
       "array([[ 1.93, 56.69],\n",
       "       [ 1.46, 66.35],\n",
       "       [ 1.55, 82.01],\n",
       "       ...,\n",
       "       [ 1.64, 65.02],\n",
       "       [ 1.79, 89.65],\n",
       "       [ 1.72, 42.64]])"
      ]
     },
     "execution_count": 2,
     "metadata": {},
     "output_type": "execute_result"
    }
   ],
   "source": [
    "# Simulate a random distribution of height: n = 5000\n",
    "# Round to 2 decimal places\n",
    "height = np.round(np.random.normal(1.75, 0.20, 5000), 2)\n",
    "\n",
    "# Simulate a random distribution of weight: n = 5000\n",
    "# Round to 2 decimal places\n",
    "weight = np.round(np.random.normal(60.32, 15, 5000), 2)\n",
    "\n",
    "# Stack them all together in a column\n",
    "np_people = np.column_stack((height, weight))\n",
    "\n",
    "# Preview\n",
    "np_people"
   ]
  }
 ],
 "metadata": {
  "kernelspec": {
   "display_name": "Python 3",
   "language": "python",
   "name": "python3"
  },
  "language_info": {
   "codemirror_mode": {
    "name": "ipython",
    "version": 3
   },
   "file_extension": ".py",
   "mimetype": "text/x-python",
   "name": "python",
   "nbconvert_exporter": "python",
   "pygments_lexer": "ipython3",
   "version": "3.8.5"
  },
  "toc": {
   "base_numbering": 1,
   "nav_menu": {},
   "number_sections": true,
   "sideBar": true,
   "skip_h1_title": true,
   "title_cell": "Table of Contents",
   "title_sidebar": "Contents",
   "toc_cell": true,
   "toc_position": {},
   "toc_section_display": true,
   "toc_window_display": true
  }
 },
 "nbformat": 4,
 "nbformat_minor": 4
}
