{
 "cells": [
  {
   "cell_type": "markdown",
   "metadata": {
    "toc": true
   },
   "source": [
    "<h1>Table of Contents<span class=\"tocSkip\"></span></h1>\n",
    "<div class=\"toc\"><ul class=\"toc-item\"><li><span><a href=\"#Inner-Join\" data-toc-modified-id=\"Inner-Join-1\"><span class=\"toc-item-num\">1&nbsp;&nbsp;</span>Inner Join</a></span><ul class=\"toc-item\"><li><span><a href=\"#Merging-Multiple-Tables\" data-toc-modified-id=\"Merging-Multiple-Tables-1.1\"><span class=\"toc-item-num\">1.1&nbsp;&nbsp;</span>Merging Multiple Tables</a></span></li></ul></li><li><span><a href=\"#Left-Join\" data-toc-modified-id=\"Left-Join-2\"><span class=\"toc-item-num\">2&nbsp;&nbsp;</span>Left Join</a></span></li><li><span><a href=\"#Right-Join\" data-toc-modified-id=\"Right-Join-3\"><span class=\"toc-item-num\">3&nbsp;&nbsp;</span>Right Join</a></span></li><li><span><a href=\"#Outer-Join\" data-toc-modified-id=\"Outer-Join-4\"><span class=\"toc-item-num\">4&nbsp;&nbsp;</span>Outer Join</a></span></li><li><span><a href=\"#Self-Join\" data-toc-modified-id=\"Self-Join-5\"><span class=\"toc-item-num\">5&nbsp;&nbsp;</span>Self Join</a></span></li><li><span><a href=\"#Merging-on-Indexes\" data-toc-modified-id=\"Merging-on-Indexes-6\"><span class=\"toc-item-num\">6&nbsp;&nbsp;</span>Merging on Indexes</a></span></li><li><span><a href=\"#Filtering-Joins\" data-toc-modified-id=\"Filtering-Joins-7\"><span class=\"toc-item-num\">7&nbsp;&nbsp;</span>Filtering Joins</a></span><ul class=\"toc-item\"><li><span><a href=\"#Semi-Join\" data-toc-modified-id=\"Semi-Join-7.1\"><span class=\"toc-item-num\">7.1&nbsp;&nbsp;</span>Semi-Join</a></span></li><li><span><a href=\"#Anti-Join\" data-toc-modified-id=\"Anti-Join-7.2\"><span class=\"toc-item-num\">7.2&nbsp;&nbsp;</span>Anti-Join</a></span></li></ul></li><li><span><a href=\"#Concatenate-2-Tables-Vertically\" data-toc-modified-id=\"Concatenate-2-Tables-Vertically-8\"><span class=\"toc-item-num\">8&nbsp;&nbsp;</span>Concatenate 2 Tables Vertically</a></span><ul class=\"toc-item\"><li><span><a href=\"#Basic-Concatenation\" data-toc-modified-id=\"Basic-Concatenation-8.1\"><span class=\"toc-item-num\">8.1&nbsp;&nbsp;</span>Basic Concatenation</a></span></li><li><span><a href=\"#DFs-with-different-columns\" data-toc-modified-id=\"DFs-with-different-columns-8.2\"><span class=\"toc-item-num\">8.2&nbsp;&nbsp;</span>DFs with different columns</a></span></li><li><span><a href=\"#Using-.append()\" data-toc-modified-id=\"Using-.append()-8.3\"><span class=\"toc-item-num\">8.3&nbsp;&nbsp;</span>Using <code>.append()</code></a></span></li></ul></li><li><span><a href=\"#Verifying-Integrity\" data-toc-modified-id=\"Verifying-Integrity-9\"><span class=\"toc-item-num\">9&nbsp;&nbsp;</span>Verifying Integrity</a></span><ul class=\"toc-item\"><li><span><a href=\"#Why-validate-and-verify-integrity-and-what-to-do?\" data-toc-modified-id=\"Why-validate-and-verify-integrity-and-what-to-do?-9.1\"><span class=\"toc-item-num\">9.1&nbsp;&nbsp;</span>Why validate and verify integrity and what to do?</a></span></li></ul></li></ul></div>"
   ]
  },
  {
   "cell_type": "markdown",
   "metadata": {},
   "source": [
    "These concepts are the same as SQL Joins. **Note that joins are affected by the relationship between the tables: One-to-One vs One-to-Many**"
   ]
  },
  {
   "cell_type": "markdown",
   "metadata": {},
   "source": [
    "## Inner Join"
   ]
  },
  {
   "cell_type": "markdown",
   "metadata": {},
   "source": [
    "**When both tables contains the same columns, use suffixes to distinguish which ones are from which tables**\n",
    "\n",
    "```python\n",
    "merged_df = left_df.merge(right_df, on=\"shared_column\", suffixes=(\"_left\", \"_right\"))\n",
    "```"
   ]
  },
  {
   "cell_type": "markdown",
   "metadata": {},
   "source": [
    "**We can also merge on a combination of multiple shared columns**\n",
    "\n",
    "```python\n",
    "merged_df = left_df.merge(right_df, on=[\"column1\", \"column2\"], suffixes=(\"_left\", \"_right\"))\n",
    "```"
   ]
  },
  {
   "cell_type": "markdown",
   "metadata": {},
   "source": [
    "**If the tables do not have the same name for the merging column, we can select them separately**\n",
    "\n",
    "```python\n",
    "merged_df = left_df.merge(right_df, left_on=\"column1\", right_on=\"column2\", suffixes=(\"_left\", \"_right\"))\n",
    "```"
   ]
  },
  {
   "cell_type": "markdown",
   "metadata": {},
   "source": [
    "### Merging Multiple Tables"
   ]
  },
  {
   "cell_type": "markdown",
   "metadata": {},
   "source": [
    "**We can merge multiple tables together using a chaining of `merge()` methods**\n",
    "\n",
    "```python\n",
    "merged_df = left_df.merge(middle_df, on=\"shared_column\")\\\n",
    "                   .merge(right_df, on=\"shared_column\", suffixes=(\"_middle\", \"_right\")\n",
    "```"
   ]
  },
  {
   "cell_type": "markdown",
   "metadata": {},
   "source": [
    "## Left Join"
   ]
  },
  {
   "cell_type": "markdown",
   "metadata": {},
   "source": [
    "**Returns everything from the left table, then add those data from the right table where there are matches. Pandas uses `NaN` to denote missing data. For Left-Joins in Pandas, we need to specify `how='left`**"
   ]
  },
  {
   "cell_type": "markdown",
   "metadata": {},
   "source": [
    "```python\n",
    "merged_df = left_df.merge(right_df, on=\"shared_column\", how=\"left)\n",
    "```                      "
   ]
  },
  {
   "cell_type": "markdown",
   "metadata": {},
   "source": [
    "Depending on the relationship between the table, the results of the join will differ:\n",
    "- One-to-One relatioship: The joined table will have equal length as the left table\n",
    "- One-to-Many relationship: The joined table will have equal or longer length as the left table"
   ]
  },
  {
   "cell_type": "markdown",
   "metadata": {},
   "source": [
    "## Right Join"
   ]
  },
  {
   "cell_type": "markdown",
   "metadata": {},
   "source": [
    "**Returns everything from the right table, then add those data from the left table where there are matches. Pandas uses `NaN` to denote missing data. For Right-Joins in Pandas, we need to specify `how='right`**\n",
    "\n",
    "**This is the same as a left-join with the tables order flipped**"
   ]
  },
  {
   "cell_type": "markdown",
   "metadata": {},
   "source": [
    "```python\n",
    "merged_df = left_df.merge(right_df, on=\"shared_column\", how=\"right\")\n",
    "```"
   ]
  },
  {
   "cell_type": "markdown",
   "metadata": {},
   "source": [
    "Depending on the relationship between the table, the results of the join will differ:\n",
    "- One-to-One relatioship: The joined table will have equal length as the right table\n",
    "- One-to-Many relationship: The joined table will have equal or longer length as the right table"
   ]
  },
  {
   "cell_type": "markdown",
   "metadata": {},
   "source": [
    "## Outer Join"
   ]
  },
  {
   "cell_type": "markdown",
   "metadata": {},
   "source": [
    "**Returns everything from the right tables, then add everything from the left table, matching those where there are matches. Pandas uses `NaN` to denote missing data. For Outer-Joins in Pandas, we need to specify `how='outer'`**"
   ]
  },
  {
   "cell_type": "markdown",
   "metadata": {},
   "source": [
    "```python\n",
    "merged_df = left_df.merge(right_df, on=\"shared_column\", how=\"outer\", suffixes=(\"_left\", \"_right\"))\n",
    "```"
   ]
  },
  {
   "cell_type": "markdown",
   "metadata": {},
   "source": [
    "Cool thing about Outer Join is that we can use it to do the negated part of an inner join, i.e `NOT IN (left INTER right)`"
   ]
  },
  {
   "cell_type": "markdown",
   "metadata": {},
   "source": [
    "```python\n",
    "notin_filter = ((merged_df['column_x'].isnull()) | (merged_df['column_y'].isnull()))\n",
    "```"
   ]
  },
  {
   "cell_type": "markdown",
   "metadata": {},
   "source": [
    "## Self Join"
   ]
  },
  {
   "cell_type": "markdown",
   "metadata": {},
   "source": [
    "**This is helpful when:**\n",
    "- The rows have a cell that reference to another row within the table\n",
    "- Hierarchical relationships (e.g. Employee-Manager)\n",
    "- Sequential relationships (e.g. the next movie in a sequel)\n",
    "- Graph data (e.g. network of friends)\n",
    "\n",
    "**The join is typically an inner join but we can use any other join type as well**"
   ]
  },
  {
   "cell_type": "markdown",
   "metadata": {},
   "source": [
    "```python\n",
    "merged_df = df.merge(df, left_on=\"column1\", right_on=\"column2\", suffixes=(\"_left\", \"_right\"))\n",
    "```"
   ]
  },
  {
   "cell_type": "markdown",
   "metadata": {},
   "source": [
    "## Merging on Indexes"
   ]
  },
  {
   "cell_type": "markdown",
   "metadata": {},
   "source": [
    "It is possible that the indexes in one table could be matching indexes in another table. We can use the indexes to merge two tables together. This is simply the same as having the `id` column converted into the index of thet tables\n",
    "\n",
    "**The `merge()` method automatically adjusts to accept either index name or column name, so the syntax stays the same**"
   ]
  },
  {
   "cell_type": "markdown",
   "metadata": {},
   "source": [
    "For multi-indexes tables, we simply pass `on=['index1', 'index2']` as with multiple columns"
   ]
  },
  {
   "cell_type": "markdown",
   "metadata": {},
   "source": [
    "**There is a slight different when we want to use `left_on` and `right_on` when the indexes have different names: We have to specify that they are indexes and not columns**"
   ]
  },
  {
   "cell_type": "markdown",
   "metadata": {},
   "source": [
    "```python\n",
    "merged_df = left_df.merge(right_df, left_on=\"index1\", left_index=True, right_on=\"index2\", right_index=True, suffixes=(\"_left\", \"_right\"))\n",
    "```"
   ]
  },
  {
   "cell_type": "markdown",
   "metadata": {},
   "source": [
    "## Filtering Joins"
   ]
  },
  {
   "cell_type": "markdown",
   "metadata": {},
   "source": [
    "The previous joins are *Mutating Joins*: Combines data from tables based on matching observation in both tables\n",
    "\n",
    "***Filtering Joins*: Filter observations from one table based on whether or not they match an observation in another table.** Pandas does not provide direct supoprt for *filtering joins*, but we can replicate them using `isin()`"
   ]
  },
  {
   "cell_type": "markdown",
   "metadata": {},
   "source": [
    "### Semi-Join"
   ]
  },
  {
   "cell_type": "markdown",
   "metadata": {},
   "source": [
    "Filter the left tables down to only the **observations that have a match on the right table**\n",
    "- Similar to an inner join: Only returns the intersection\n",
    "- However, only the columns from the left tables are shown\n",
    "- No duplicate rows from the left table are returned, even if there is a one-to-many relationship"
   ]
  },
  {
   "cell_type": "markdown",
   "metadata": {},
   "source": [
    "```python\n",
    "# Merge the 2 tables with an inner join\n",
    "df_intersection = left_df.merge(right_df, on='id')\n",
    "\n",
    "# Create a filter: elements of left_df that are in the intersection with right_df\n",
    "is_in_right_df = left_df['id'].isin(df_intersection['id']) # Boolean series\n",
    "\n",
    "# Subset left_df based on the filter\n",
    "merged_df = left_df[is_in_right_df]\n",
    "```"
   ]
  },
  {
   "cell_type": "markdown",
   "metadata": {},
   "source": [
    "### Anti-Join"
   ]
  },
  {
   "cell_type": "markdown",
   "metadata": {},
   "source": [
    "Filter the left tables down to only the **observations that *do not* have a match on the right table**"
   ]
  },
  {
   "cell_type": "markdown",
   "metadata": {},
   "source": [
    "- Similar to an exclusive left-join (exclude the intersection)\n",
    "- However, only the columns from the left table are shown\n",
    "- *Basically the reverse of the semi-join*"
   ]
  },
  {
   "cell_type": "markdown",
   "metadata": {},
   "source": [
    "```python\n",
    "# Do a left-join with added _merge column\n",
    "df_left_merged = left_df.merge(right_df, on='shared_column', how='left', indicator=True)\n",
    "\n",
    "# Returns only the 'id' column from temp_merged\n",
    "not_in_right_df = df_left_merged.loc[df_left_merged['_merge'] == 'left_only', 'id'] # list of ids\n",
    "\n",
    "# Apply filter\n",
    "merged_df = left_df[left_df['id'].isin(not_in_right_df)]\n",
    "```"
   ]
  },
  {
   "cell_type": "markdown",
   "metadata": {},
   "source": [
    "- `indicator=True`: Adds a `_merge` column to the output that tells either `left_only`, `right_only`, or `both`"
   ]
  },
  {
   "cell_type": "markdown",
   "metadata": {},
   "source": [
    "**<span class=\"mark\">If Anti-join is the opposite of semi-join, then maybe we could do the following too?</span>**"
   ]
  },
  {
   "cell_type": "markdown",
   "metadata": {},
   "source": [
    "```python\n",
    "# Merge the 2 tables with an inner join\n",
    "df_intersection = left_df.merge(right_df, on='id')\n",
    "\n",
    "# Create a filter: elements of left_df that are NOT in the intersection with right_df\n",
    "not_in_right_df = ~left_df['id'].isin(df_intersection['id']) # Boolean series: ~ for NOT\n",
    "\n",
    "# Subset left_df based on the filter\n",
    "merged_df = left_df[not_in_right_df]\n",
    "```"
   ]
  },
  {
   "cell_type": "markdown",
   "metadata": {},
   "source": [
    "## Concatenate 2 Tables Vertically"
   ]
  },
  {
   "cell_type": "markdown",
   "metadata": {},
   "source": [
    "This is like add a list to another list\n",
    "- We can use `df1.concatenate(df2)` for this\n",
    "- `axis=0` means `vertical`\n",
    "- It is also possible to do horizontal concatenation"
   ]
  },
  {
   "cell_type": "markdown",
   "metadata": {},
   "source": [
    "### Basic Concatenation"
   ]
  },
  {
   "cell_type": "markdown",
   "metadata": {},
   "source": [
    "- We can ignore the index from the original DF to reset indexes, else they would be maintained and added as well\n",
    "- We can keep association with the origin of the DFs by adding `keys`, but we must `ignore_index` when we do this\n",
    "  - This result in a multi-indexing"
   ]
  },
  {
   "cell_type": "markdown",
   "metadata": {},
   "source": [
    "```python\n",
    "# Default: axis=0 meas vertically\n",
    "final_df = pd.concat([df1, df2, df3, ...], \n",
    "                     axis=0, \n",
    "                     ignore_index=True,\n",
    "                     keys=['key1', 'key2', 'key3', ...])\n",
    "```"
   ]
  },
  {
   "cell_type": "markdown",
   "metadata": {},
   "source": [
    "### DFs with different columns"
   ]
  },
  {
   "cell_type": "markdown",
   "metadata": {},
   "source": [
    "- By default, `concat()` includes all the columns from all the DFs\n",
    "- No-matching values will be assigned `NaN` for those columns\n",
    "- If we set `sort=True`, all the columns will be sorted alphabetically in the result"
   ]
  },
  {
   "cell_type": "markdown",
   "metadata": {},
   "source": [
    "```python\n",
    "final_df = pd.concat([df1, df2, df3, ...], \n",
    "                     ignore_index=True,\n",
    "                     keys=['key1', 'key2', 'key3', ...],\n",
    "                     sort=True)\n",
    "```"
   ]
  },
  {
   "cell_type": "markdown",
   "metadata": {},
   "source": [
    "- If we only want the columns that match all the DFs, we have to set `join='inner'`\n",
    "  - By default, `join='outer'`, which includes all columns\n",
    "  - When `join='inner'`, `sort=True` is ignored: The order will be the same as the input tables"
   ]
  },
  {
   "cell_type": "markdown",
   "metadata": {},
   "source": [
    "```python\n",
    "final_df = pd.concat([df1, df2, df3, ...], \n",
    "                     ignore_index=True,\n",
    "                     keys=['key1', 'key2', 'key3', ...],\n",
    "                     join='inner')\n",
    "```"
   ]
  },
  {
   "cell_type": "markdown",
   "metadata": {},
   "source": [
    "### Using `.append()`"
   ]
  },
  {
   "cell_type": "markdown",
   "metadata": {},
   "source": [
    "`df.append()` is a simplified version of `pd.concat()`\n",
    "- Support for:\n",
    "  - `ignore_index`\n",
    "  - `sort`\n",
    "- No support for:\n",
    "  - `keys`\n",
    "  - `join`: Always set to `outer`"
   ]
  },
  {
   "cell_type": "markdown",
   "metadata": {},
   "source": [
    "```python\n",
    "final_df = df1.append([df2, df3, ...], \n",
    "                     ignore_index=True,\n",
    "                     sort=True)\n",
    "```"
   ]
  },
  {
   "cell_type": "markdown",
   "metadata": {},
   "source": [
    "## Verifying Integrity"
   ]
  },
  {
   "cell_type": "markdown",
   "metadata": {},
   "source": [
    "- `merge()` and `concat()` have special features that allow us to verify the integrity of our data\n",
    "  - Merging issue: We might expect tables to have 1-1 relationship when it is actually 1-many\n",
    "  - Concatenate issue: We might create duplicate records "
   ]
  },
  {
   "cell_type": "markdown",
   "metadata": {},
   "source": [
    "```python\n",
    "df1.merge(df2, ..., validate=None) # Check if merge is of a specified type\n",
    "```\n",
    "Possible values:\n",
    "- `one_to_one`: If the relationship is not 1-1, raise error\n",
    "- `one_to_many`: If the relationship is not 1-many, raise error\n",
    "- `many_to_one`: If the relationship is not many-1, raise error\n",
    "- `many_to_many`: If the relationship is not many-many, raise error"
   ]
  },
  {
   "cell_type": "markdown",
   "metadata": {},
   "source": [
    "```python\n",
    "pd.concat([df1, df2], ..., verify_integrity=False) # Check whether the new concatenated index contains duplicates\n",
    "```\n",
    "Possible values:\n",
    "- `True`: if there are duplicate values in the **index**, raise error"
   ]
  },
  {
   "cell_type": "markdown",
   "metadata": {},
   "source": [
    "### Why validate and verify integrity and what to do?"
   ]
  },
  {
   "cell_type": "markdown",
   "metadata": {},
   "source": [
    "- Real-world Data is often NOT clean\n",
    "- If there are integrity issues:\n",
    "  - Fix incorrect data (in general)\n",
    "  - Drop duplicate rows"
   ]
  }
 ],
 "metadata": {
  "kernelspec": {
   "display_name": "Python 3",
   "language": "python",
   "name": "python3"
  },
  "language_info": {
   "codemirror_mode": {
    "name": "ipython",
    "version": 3
   },
   "file_extension": ".py",
   "mimetype": "text/x-python",
   "name": "python",
   "nbconvert_exporter": "python",
   "pygments_lexer": "ipython3",
   "version": "3.8.5"
  },
  "toc": {
   "base_numbering": 1,
   "nav_menu": {},
   "number_sections": true,
   "sideBar": true,
   "skip_h1_title": true,
   "title_cell": "Table of Contents",
   "title_sidebar": "Contents",
   "toc_cell": true,
   "toc_position": {},
   "toc_section_display": true,
   "toc_window_display": true
  }
 },
 "nbformat": 4,
 "nbformat_minor": 4
}
