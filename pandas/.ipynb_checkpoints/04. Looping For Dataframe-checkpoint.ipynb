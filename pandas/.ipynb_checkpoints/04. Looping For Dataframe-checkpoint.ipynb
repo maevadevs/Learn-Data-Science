{
 "cells": [
  {
   "cell_type": "markdown",
   "metadata": {
    "toc": true
   },
   "source": [
    "<h1>Table of Contents<span class=\"tocSkip\"></span></h1>\n",
    "<div class=\"toc\"><ul class=\"toc-item\"></ul></div>"
   ]
  },
  {
   "cell_type": "code",
   "execution_count": 1,
   "metadata": {},
   "outputs": [],
   "source": [
    "import pandas as pd"
   ]
  },
  {
   "cell_type": "code",
   "execution_count": 2,
   "metadata": {},
   "outputs": [
    {
     "data": {
      "text/html": [
       "<div>\n",
       "<style scoped>\n",
       "    .dataframe tbody tr th:only-of-type {\n",
       "        vertical-align: middle;\n",
       "    }\n",
       "\n",
       "    .dataframe tbody tr th {\n",
       "        vertical-align: top;\n",
       "    }\n",
       "\n",
       "    .dataframe thead th {\n",
       "        text-align: right;\n",
       "    }\n",
       "</style>\n",
       "<table border=\"1\" class=\"dataframe\">\n",
       "  <thead>\n",
       "    <tr style=\"text-align: right;\">\n",
       "      <th></th>\n",
       "      <th>cars_per_cap</th>\n",
       "      <th>country</th>\n",
       "      <th>drives_right</th>\n",
       "    </tr>\n",
       "  </thead>\n",
       "  <tbody>\n",
       "    <tr>\n",
       "      <th>US</th>\n",
       "      <td>809</td>\n",
       "      <td>United States</td>\n",
       "      <td>True</td>\n",
       "    </tr>\n",
       "    <tr>\n",
       "      <th>AUS</th>\n",
       "      <td>731</td>\n",
       "      <td>Australia</td>\n",
       "      <td>False</td>\n",
       "    </tr>\n",
       "    <tr>\n",
       "      <th>JPN</th>\n",
       "      <td>588</td>\n",
       "      <td>Japan</td>\n",
       "      <td>False</td>\n",
       "    </tr>\n",
       "    <tr>\n",
       "      <th>IN</th>\n",
       "      <td>18</td>\n",
       "      <td>India</td>\n",
       "      <td>False</td>\n",
       "    </tr>\n",
       "    <tr>\n",
       "      <th>RU</th>\n",
       "      <td>200</td>\n",
       "      <td>Russia</td>\n",
       "      <td>True</td>\n",
       "    </tr>\n",
       "  </tbody>\n",
       "</table>\n",
       "</div>"
      ],
      "text/plain": [
       "     cars_per_cap        country  drives_right\n",
       "US            809  United States          True\n",
       "AUS           731      Australia         False\n",
       "JPN           588          Japan         False\n",
       "IN             18          India         False\n",
       "RU            200         Russia          True"
      ]
     },
     "execution_count": 2,
     "metadata": {},
     "output_type": "execute_result"
    }
   ],
   "source": [
    "# Data Frame from cars.csv\n",
    "cars = pd.read_csv('../datasets/cars.csv', index_col=0)\n",
    "cars.head()"
   ]
  },
  {
   "cell_type": "markdown",
   "metadata": {},
   "source": [
    "**If we use regular loops, we simply iterate over the column names**"
   ]
  },
  {
   "cell_type": "code",
   "execution_count": 3,
   "metadata": {},
   "outputs": [
    {
     "name": "stdout",
     "output_type": "stream",
     "text": [
      "cars_per_cap\n",
      "country\n",
      "drives_right\n"
     ]
    }
   ],
   "source": [
    "for val in cars:\n",
    "    print(val)"
   ]
  },
  {
   "cell_type": "markdown",
   "metadata": {},
   "source": [
    "**To iterate over the rows, we use `.iterrows()` method. This returns each row as a Pandas series type.**"
   ]
  },
  {
   "cell_type": "code",
   "execution_count": 4,
   "metadata": {},
   "outputs": [
    {
     "name": "stdout",
     "output_type": "stream",
     "text": [
      "US\n",
      "--\n",
      "country: United States / cars_per_cap: 809 / drives_right: True\n",
      "\n",
      "AUS\n",
      "---\n",
      "country: Australia / cars_per_cap: 731 / drives_right: False\n",
      "\n",
      "JPN\n",
      "---\n",
      "country: Japan / cars_per_cap: 588 / drives_right: False\n",
      "\n",
      "IN\n",
      "--\n",
      "country: India / cars_per_cap: 18 / drives_right: False\n",
      "\n",
      "RU\n",
      "--\n",
      "country: Russia / cars_per_cap: 200 / drives_right: True\n",
      "\n",
      "MOR\n",
      "---\n",
      "country: Morocco / cars_per_cap: 70 / drives_right: True\n",
      "\n",
      "EG\n",
      "--\n",
      "country: Egypt / cars_per_cap: 45 / drives_right: True\n",
      "\n"
     ]
    }
   ],
   "source": [
    "for label, row in cars.iterrows():\n",
    "    \n",
    "    print(label)\n",
    "    print('-' * len(label))\n",
    "    \n",
    "    # We can select from the Panda Series\n",
    "    print('country:', row['country'], '/ cars_per_cap:', row['cars_per_cap'], '/ drives_right:', row['drives_right'])\n",
    "    print()"
   ]
  },
  {
   "cell_type": "markdown",
   "metadata": {},
   "source": [
    "**We can also use loop to add a new column and its calculated data**"
   ]
  },
  {
   "cell_type": "code",
   "execution_count": 5,
   "metadata": {},
   "outputs": [
    {
     "data": {
      "text/html": [
       "<div>\n",
       "<style scoped>\n",
       "    .dataframe tbody tr th:only-of-type {\n",
       "        vertical-align: middle;\n",
       "    }\n",
       "\n",
       "    .dataframe tbody tr th {\n",
       "        vertical-align: top;\n",
       "    }\n",
       "\n",
       "    .dataframe thead th {\n",
       "        text-align: right;\n",
       "    }\n",
       "</style>\n",
       "<table border=\"1\" class=\"dataframe\">\n",
       "  <thead>\n",
       "    <tr style=\"text-align: right;\">\n",
       "      <th></th>\n",
       "      <th>cars_per_cap</th>\n",
       "      <th>country</th>\n",
       "      <th>drives_right</th>\n",
       "      <th>COUNTRY</th>\n",
       "    </tr>\n",
       "  </thead>\n",
       "  <tbody>\n",
       "    <tr>\n",
       "      <th>US</th>\n",
       "      <td>809</td>\n",
       "      <td>United States</td>\n",
       "      <td>True</td>\n",
       "      <td>UNITED STATES</td>\n",
       "    </tr>\n",
       "    <tr>\n",
       "      <th>AUS</th>\n",
       "      <td>731</td>\n",
       "      <td>Australia</td>\n",
       "      <td>False</td>\n",
       "      <td>AUSTRALIA</td>\n",
       "    </tr>\n",
       "    <tr>\n",
       "      <th>JPN</th>\n",
       "      <td>588</td>\n",
       "      <td>Japan</td>\n",
       "      <td>False</td>\n",
       "      <td>JAPAN</td>\n",
       "    </tr>\n",
       "    <tr>\n",
       "      <th>IN</th>\n",
       "      <td>18</td>\n",
       "      <td>India</td>\n",
       "      <td>False</td>\n",
       "      <td>INDIA</td>\n",
       "    </tr>\n",
       "    <tr>\n",
       "      <th>RU</th>\n",
       "      <td>200</td>\n",
       "      <td>Russia</td>\n",
       "      <td>True</td>\n",
       "      <td>RUSSIA</td>\n",
       "    </tr>\n",
       "  </tbody>\n",
       "</table>\n",
       "</div>"
      ],
      "text/plain": [
       "     cars_per_cap        country  drives_right        COUNTRY\n",
       "US            809  United States          True  UNITED STATES\n",
       "AUS           731      Australia         False      AUSTRALIA\n",
       "JPN           588          Japan         False          JAPAN\n",
       "IN             18          India         False          INDIA\n",
       "RU            200         Russia          True         RUSSIA"
      ]
     },
     "execution_count": 5,
     "metadata": {},
     "output_type": "execute_result"
    }
   ],
   "source": [
    "# Code for loop that adds COUNTRY column (uppercase version)\n",
    "for label, row in cars.iterrows():\n",
    "    cars.loc[label, 'COUNTRY'] = row['country'].upper()\n",
    "    \n",
    "# Looking\n",
    "cars.head()"
   ]
  },
  {
   "cell_type": "markdown",
   "metadata": {},
   "source": [
    "**However, creating a new column with iteration is not efficient. Instead, it is better to use `apply(fn)`**"
   ]
  },
  {
   "cell_type": "code",
   "execution_count": 6,
   "metadata": {},
   "outputs": [
    {
     "data": {
      "text/html": [
       "<div>\n",
       "<style scoped>\n",
       "    .dataframe tbody tr th:only-of-type {\n",
       "        vertical-align: middle;\n",
       "    }\n",
       "\n",
       "    .dataframe tbody tr th {\n",
       "        vertical-align: top;\n",
       "    }\n",
       "\n",
       "    .dataframe thead th {\n",
       "        text-align: right;\n",
       "    }\n",
       "</style>\n",
       "<table border=\"1\" class=\"dataframe\">\n",
       "  <thead>\n",
       "    <tr style=\"text-align: right;\">\n",
       "      <th></th>\n",
       "      <th>cars_per_cap</th>\n",
       "      <th>country</th>\n",
       "      <th>drives_right</th>\n",
       "      <th>COUNTRY</th>\n",
       "      <th>drives_left</th>\n",
       "    </tr>\n",
       "  </thead>\n",
       "  <tbody>\n",
       "    <tr>\n",
       "      <th>US</th>\n",
       "      <td>809</td>\n",
       "      <td>United States</td>\n",
       "      <td>True</td>\n",
       "      <td>UNITED STATES</td>\n",
       "      <td>False</td>\n",
       "    </tr>\n",
       "    <tr>\n",
       "      <th>AUS</th>\n",
       "      <td>731</td>\n",
       "      <td>Australia</td>\n",
       "      <td>False</td>\n",
       "      <td>AUSTRALIA</td>\n",
       "      <td>True</td>\n",
       "    </tr>\n",
       "    <tr>\n",
       "      <th>JPN</th>\n",
       "      <td>588</td>\n",
       "      <td>Japan</td>\n",
       "      <td>False</td>\n",
       "      <td>JAPAN</td>\n",
       "      <td>True</td>\n",
       "    </tr>\n",
       "    <tr>\n",
       "      <th>IN</th>\n",
       "      <td>18</td>\n",
       "      <td>India</td>\n",
       "      <td>False</td>\n",
       "      <td>INDIA</td>\n",
       "      <td>True</td>\n",
       "    </tr>\n",
       "    <tr>\n",
       "      <th>RU</th>\n",
       "      <td>200</td>\n",
       "      <td>Russia</td>\n",
       "      <td>True</td>\n",
       "      <td>RUSSIA</td>\n",
       "      <td>False</td>\n",
       "    </tr>\n",
       "  </tbody>\n",
       "</table>\n",
       "</div>"
      ],
      "text/plain": [
       "     cars_per_cap        country  drives_right        COUNTRY  drives_left\n",
       "US            809  United States          True  UNITED STATES        False\n",
       "AUS           731      Australia         False      AUSTRALIA         True\n",
       "JPN           588          Japan         False          JAPAN         True\n",
       "IN             18          India         False          INDIA         True\n",
       "RU            200         Russia          True         RUSSIA        False"
      ]
     },
     "execution_count": 6,
     "metadata": {},
     "output_type": "execute_result"
    }
   ],
   "source": [
    "# Applying a function to create a new column\n",
    "cars['drives_left'] = cars['drives_right'].apply(lambda x: not x)\n",
    "\n",
    "# Looking\n",
    "cars.head()"
   ]
  }
 ],
 "metadata": {
  "kernelspec": {
   "display_name": "Python 3",
   "language": "python",
   "name": "python3"
  },
  "language_info": {
   "codemirror_mode": {
    "name": "ipython",
    "version": 3
   },
   "file_extension": ".py",
   "mimetype": "text/x-python",
   "name": "python",
   "nbconvert_exporter": "python",
   "pygments_lexer": "ipython3",
   "version": "3.8.5"
  },
  "toc": {
   "base_numbering": 1,
   "nav_menu": {},
   "number_sections": true,
   "sideBar": true,
   "skip_h1_title": true,
   "title_cell": "Table of Contents",
   "title_sidebar": "Contents",
   "toc_cell": true,
   "toc_position": {},
   "toc_section_display": true,
   "toc_window_display": true
  }
 },
 "nbformat": 4,
 "nbformat_minor": 4
}
